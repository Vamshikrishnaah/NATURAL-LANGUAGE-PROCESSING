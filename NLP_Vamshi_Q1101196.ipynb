{
  "nbformat": 4,
  "nbformat_minor": 0,
  "metadata": {
    "colab": {
      "provenance": [],
      "include_colab_link": true
    },
    "kernelspec": {
      "name": "python3",
      "display_name": "Python 3"
    },
    "language_info": {
      "name": "python"
    }
  },
  "cells": [
    {
      "cell_type": "markdown",
      "metadata": {
        "id": "view-in-github",
        "colab_type": "text"
      },
      "source": [
        "<a href=\"https://colab.research.google.com/github/Vamshikrishnaah/NATURAL-LANGUAGE-PROCESSING/blob/main/NLP_Vamshi_Q1101196.ipynb\" target=\"_parent\"><img src=\"https://colab.research.google.com/assets/colab-badge.svg\" alt=\"Open In Colab\"/></a>"
      ]
    },
    {
      "cell_type": "code",
      "source": [
        "# Required imports\n",
        "import pandas as pd\n",
        "import matplotlib.pyplot as plt\n",
        "import seaborn as sns\n",
        "from sklearn.metrics import roc_curve, auc\n",
        "from sklearn.model_selection import train_test_split\n",
        "from sklearn.feature_extraction.text import TfidfVectorizer\n",
        "from sklearn.linear_model import LogisticRegression\n",
        "from sklearn.svm import LinearSVC\n",
        "from sklearn.pipeline import Pipeline\n",
        "from sklearn.metrics import classification_report, confusion_matrix, roc_auc_score, accuracy_score\n"
      ],
      "metadata": {
        "id": "E3AYTfD4Es6l"
      },
      "execution_count": 1,
      "outputs": []
    },
    {
      "cell_type": "code",
      "source": [
        "from google.colab import drive\n",
        "drive.mount('/content/drive')"
      ],
      "metadata": {
        "colab": {
          "base_uri": "https://localhost:8080/"
        },
        "id": "lRoKOTzD5pYn",
        "outputId": "834b1cc5-23b8-4752-a976-592ff90f78ba"
      },
      "execution_count": 2,
      "outputs": [
        {
          "output_type": "stream",
          "name": "stdout",
          "text": [
            "Mounted at /content/drive\n"
          ]
        }
      ]
    },
    {
      "cell_type": "code",
      "source": [
        "%cd /content/drive/MyDrive/Term2 Colab Notebooks/NLP\n",
        "%ls"
      ],
      "metadata": {
        "colab": {
          "base_uri": "https://localhost:8080/"
        },
        "id": "W1xJXV2H5yhL",
        "outputId": "c691b5b7-2fec-4f36-cb5b-1adf6a230b7f"
      },
      "execution_count": 3,
      "outputs": [
        {
          "output_type": "stream",
          "name": "stdout",
          "text": [
            "/content/drive/MyDrive/Term2 Colab Notebooks/NLP\n",
            " AI_LSTM_and_GRU_Week_3.ipynb\n",
            " AI_N_grams_Week_3.ipynb\n",
            "'Bag of Words and TF-IDF.ipynb'\n",
            " Bert_Home.ipynb\n",
            " BERT_Week4.ipynb\n",
            "'BERT_with_CRF (2).ipynb'\n",
            " \u001b[0m\u001b[01;34mDatasets\u001b[0m/\n",
            " Email_spam_dataset.csv\n",
            "'LLM agents with Langchain-16 09 25.ipynb'\n",
            "'LLM Orchestration.ipynb'\n",
            "'LSTM and GRU.ipynb'\n",
            "'NLP_Transfer_and_Translation_Demos .ipynb'\n",
            " NLP_Vamshi_Q1101196.ipynb\n",
            " Sentiment_Analysis_Naive_Bayes.ipynb\n",
            " Untitled0.ipynb\n",
            " Vamshi_NLP.ipynb\n",
            "'Week 4 Attention Mechanism.ipynb'\n",
            " Week_4_Attention_Mechanism_NER_CRF.ipynb\n"
          ]
        }
      ]
    },
    {
      "cell_type": "code",
      "source": [
        "# 1. Load Dataset\n",
        "df = pd.read_csv(\"Email_spam_dataset.csv\", encoding='latin-1')\n",
        "print(df.head())\n",
        "df.shape\n",
        "df.info()\n"
      ],
      "metadata": {
        "colab": {
          "base_uri": "https://localhost:8080/"
        },
        "id": "e_Im4XY454iz",
        "outputId": "5039c8aa-7fb1-4589-b657-d63cfeab43e5"
      },
      "execution_count": 4,
      "outputs": [
        {
          "output_type": "stream",
          "name": "stdout",
          "text": [
            "     v1                                                 v2 Unnamed: 2  \\\n",
            "0   ham  Go until jurong point, crazy.. Available only ...        NaN   \n",
            "1   ham                      Ok lar... Joking wif u oni...        NaN   \n",
            "2  spam  Free entry in 2 a wkly comp to win FA Cup fina...        NaN   \n",
            "3   ham  U dun say so early hor... U c already then say...        NaN   \n",
            "4   ham  Nah I don't think he goes to usf, he lives aro...        NaN   \n",
            "\n",
            "  Unnamed: 3 Unnamed: 4  \n",
            "0        NaN        NaN  \n",
            "1        NaN        NaN  \n",
            "2        NaN        NaN  \n",
            "3        NaN        NaN  \n",
            "4        NaN        NaN  \n",
            "<class 'pandas.core.frame.DataFrame'>\n",
            "RangeIndex: 5572 entries, 0 to 5571\n",
            "Data columns (total 5 columns):\n",
            " #   Column      Non-Null Count  Dtype \n",
            "---  ------      --------------  ----- \n",
            " 0   v1          5572 non-null   object\n",
            " 1   v2          5572 non-null   object\n",
            " 2   Unnamed: 2  50 non-null     object\n",
            " 3   Unnamed: 3  12 non-null     object\n",
            " 4   Unnamed: 4  6 non-null      object\n",
            "dtypes: object(5)\n",
            "memory usage: 217.8+ KB\n"
          ]
        }
      ]
    },
    {
      "cell_type": "code",
      "source": [
        "# 2. Keep only necessary columns\n",
        "df = df.rename(columns={df.columns[0]: \"label\", df.columns[1]: \"text\"})\n",
        "df = df[['label', 'text']]\n",
        "\n",
        "# 3. Encode labels (ham = 0, spam = 1)\n",
        "df['label'] = df['label'].map({'ham': 0, 'spam': 1})\n",
        "\n",
        "# 4. Train/test split\n",
        "X_train, X_test, y_train, y_test = train_test_split(\n",
        "    df['text'], df['label'], test_size=0.2, random_state=42, stratify=df['label']\n",
        ")\n",
        "\n",
        "# 5. Classical pipeline (TF-IDF + Logistic Regression)\n",
        "tfidf = TfidfVectorizer(ngram_range=(1,2), min_df=2, max_df=0.9)\n",
        "clf_lr = LogisticRegression(max_iter=1000, solver='liblinear')\n",
        "pipeline_classical = Pipeline([('tfidf', tfidf), ('clf', clf_lr)])\n",
        "\n",
        "# 6. Fit model\n",
        "pipeline_classical.fit(X_train, y_train)\n",
        "\n",
        "# 7. Predictions\n",
        "preds_classical = pipeline_classical.predict(X_test)\n",
        "\n",
        "# 8. Evaluation\n",
        "print(classification_report(y_test, preds_classical, target_names=['ham', 'spam']))\n",
        "print(\"ROC AUC:\", roc_auc_score(y_test, pipeline_classical.decision_function(X_test)))\n"
      ],
      "metadata": {
        "colab": {
          "base_uri": "https://localhost:8080/"
        },
        "id": "b2TQOm3lE-HZ",
        "outputId": "e07b6940-8f10-4afe-a7f5-356c8e3b51d3"
      },
      "execution_count": 5,
      "outputs": [
        {
          "output_type": "stream",
          "name": "stdout",
          "text": [
            "              precision    recall  f1-score   support\n",
            "\n",
            "         ham       0.97      1.00      0.98       966\n",
            "        spam       0.99      0.78      0.87       149\n",
            "\n",
            "    accuracy                           0.97      1115\n",
            "   macro avg       0.98      0.89      0.93      1115\n",
            "weighted avg       0.97      0.97      0.97      1115\n",
            "\n",
            "ROC AUC: 0.9891339085969959\n"
          ]
        }
      ]
    },
    {
      "cell_type": "code",
      "source": [
        "# Fallback pipeline (TF-IDF + LinearSVC)\n",
        "pipeline_fallback = Pipeline([\n",
        "    ('tfidf', TfidfVectorizer(ngram_range=(1,3), min_df=2, max_df=0.9)),\n",
        "    ('clf', LinearSVC(max_iter=5000))\n",
        "])\n",
        "\n",
        "# Fit the model\n",
        "pipeline_fallback.fit(X_train, y_train)\n",
        "\n",
        "# Make predictions\n",
        "preds_fallback = pipeline_fallback.predict(X_test)\n",
        "\n",
        "# Print heading\n",
        "print(\"Fallback pipeline (TF-IDF + LinearSVC report)\\n\")\n",
        "\n",
        "# Evaluation\n",
        "report_fallback = classification_report(y_test, preds_fallback, target_names=['ham', 'spam'])\n",
        "print(report_fallback)\n"
      ],
      "metadata": {
        "colab": {
          "base_uri": "https://localhost:8080/"
        },
        "id": "5ExbvqCYG7z4",
        "outputId": "13f03b18-236f-496b-850a-98d29bd37a2f"
      },
      "execution_count": 6,
      "outputs": [
        {
          "output_type": "stream",
          "name": "stdout",
          "text": [
            "Fallback pipeline (TF-IDF + LinearSVC report)\n",
            "\n",
            "              precision    recall  f1-score   support\n",
            "\n",
            "         ham       0.99      1.00      0.99       966\n",
            "        spam       0.99      0.91      0.95       149\n",
            "\n",
            "    accuracy                           0.99      1115\n",
            "   macro avg       0.99      0.96      0.97      1115\n",
            "weighted avg       0.99      0.99      0.99      1115\n",
            "\n"
          ]
        }
      ]
    },
    {
      "cell_type": "code",
      "source": [
        "# Load dataset with proper encoding\n",
        "df = pd.read_csv(\"Email_spam_dataset.csv\", encoding=\"latin1\")\n",
        "\n",
        "# Display first rows to check columns\n",
        "print(df.head())\n"
      ],
      "metadata": {
        "colab": {
          "base_uri": "https://localhost:8080/"
        },
        "id": "sUHE6YDfRknn",
        "outputId": "7cd55fc3-1516-4a5b-cc5d-a4822805062f"
      },
      "execution_count": 7,
      "outputs": [
        {
          "output_type": "stream",
          "name": "stdout",
          "text": [
            "     v1                                                 v2 Unnamed: 2  \\\n",
            "0   ham  Go until jurong point, crazy.. Available only ...        NaN   \n",
            "1   ham                      Ok lar... Joking wif u oni...        NaN   \n",
            "2  spam  Free entry in 2 a wkly comp to win FA Cup fina...        NaN   \n",
            "3   ham  U dun say so early hor... U c already then say...        NaN   \n",
            "4   ham  Nah I don't think he goes to usf, he lives aro...        NaN   \n",
            "\n",
            "  Unnamed: 3 Unnamed: 4  \n",
            "0        NaN        NaN  \n",
            "1        NaN        NaN  \n",
            "2        NaN        NaN  \n",
            "3        NaN        NaN  \n",
            "4        NaN        NaN  \n"
          ]
        }
      ]
    },
    {
      "cell_type": "code",
      "source": [
        "\n",
        "# Keep only label and message columns\n",
        "df = df[['v1', 'v2']]\n",
        "df.columns = ['label', 'message']  # rename columns\n",
        "\n",
        "# Plot class distribution\n",
        "plt.figure(figsize=(6,4))\n",
        "df['label'].value_counts().plot(kind='bar', color=['steelblue', 'orange'])\n",
        "plt.title('Class distribution')\n",
        "plt.xlabel('Label')\n",
        "plt.ylabel('Count')\n",
        "plt.xticks(rotation=0)\n",
        "plt.show()\n"
      ],
      "metadata": {
        "colab": {
          "base_uri": "https://localhost:8080/",
          "height": 410
        },
        "id": "diPb8yJFRxJ4",
        "outputId": "00f890a8-8080-4808-9b2c-cbdcaba0a2ab"
      },
      "execution_count": 8,
      "outputs": [
        {
          "output_type": "display_data",
          "data": {
            "text/plain": [
              "<Figure size 600x400 with 1 Axes>"
            ],
            "image/png": "[encoded data removed]"
          },
          "metadata": {}
        }
      ]
    },
    {
      "cell_type": "code",
      "source": [
        "\n",
        "# 1. Train-test split\n",
        "X_train, X_test, y_train, y_test = train_test_split(df['message'], df['label'],\n",
        "                                                    test_size=0.2, random_state=42)\n",
        "\n",
        "# 2. TF-IDF Vectorization\n",
        "vectorizer = TfidfVectorizer(stop_words='english')\n",
        "X_train_tfidf = vectorizer.fit_transform(X_train)\n",
        "X_test_tfidf = vectorizer.transform(X_test)\n",
        "\n",
        "# 3. Train baseline Logistic Regression model\n",
        "baseline_model = LogisticRegression(max_iter=1000)\n",
        "baseline_model.fit(X_train_tfidf, y_train)\n",
        "\n",
        "# 4. Predictions\n",
        "y_pred = baseline_model.predict(X_test_tfidf)\n",
        "\n",
        "# 5. Confusion Matrix\n",
        "cm = confusion_matrix(y_test, y_pred, labels=['ham', 'spam'])\n",
        "\n",
        "plt.figure(figsize=(5,4))\n",
        "sns.heatmap(cm, annot=True, fmt='d', cmap='Blues',\n",
        "            xticklabels=['Ham', 'Spam'],\n",
        "            yticklabels=['Ham', 'Spam'])\n",
        "plt.title('Confusion Matrix')\n",
        "plt.xlabel('Predicted')\n",
        "plt.ylabel('Actual')\n",
        "plt.show()\n",
        "\n",
        "# 6. Classification Report\n",
        "print(classification_report(y_test, y_pred))\n"
      ],
      "metadata": {
        "colab": {
          "base_uri": "https://localhost:8080/",
          "height": 566
        },
        "id": "aNUt-aI4SrIa",
        "outputId": "3cdc2f09-a7ba-4262-9f78-fe69d2ec75cc"
      },
      "execution_count": 9,
      "outputs": [
        {
          "output_type": "display_data",
          "data": {
            "text/plain": [
              "<Figure size 500x400 with 2 Axes>"
            ],
            "image/png": "[encoded data removed]"
          },
          "metadata": {}
        },
        {
          "output_type": "stream",
          "name": "stdout",
          "text": [
            "              precision    recall  f1-score   support\n",
            "\n",
            "         ham       0.95      1.00      0.97       965\n",
            "        spam       0.97      0.67      0.79       150\n",
            "\n",
            "    accuracy                           0.95      1115\n",
            "   macro avg       0.96      0.83      0.88      1115\n",
            "weighted avg       0.95      0.95      0.95      1115\n",
            "\n"
          ]
        }
      ]
    },
    {
      "cell_type": "code",
      "source": [
        "\n",
        "# Get probability scores for the positive class (spam)\n",
        "y_prob = baseline_model.predict_proba(X_test_tfidf)[:,1]\n",
        "\n",
        "# Compute ROC curve and AUC\n",
        "fpr, tpr, thresholds = roc_curve(y_test.map({'ham':0, 'spam':1}), y_prob)\n",
        "roc_auc = auc(fpr, tpr)\n",
        "\n",
        "# Plot ROC curve\n",
        "plt.figure(figsize=(6,5))\n",
        "plt.plot(fpr, tpr, color='darkorange', lw=2, label='ROC curve (AUC = %0.2f)' % roc_auc)\n",
        "plt.plot([0,1], [0,1], color='navy', lw=2, linestyle='--')\n",
        "plt.xlim([0.0, 1.0])\n",
        "plt.ylim([0.0, 1.05])\n",
        "plt.xlabel('False Positive Rate')\n",
        "plt.ylabel('True Positive Rate')\n",
        "plt.title('Receiver Operating Characteristic (ROC)')\n",
        "plt.legend(loc=\"lower right\")\n",
        "plt.show()"
      ],
      "metadata": {
        "colab": {
          "base_uri": "https://localhost:8080/",
          "height": 487
        },
        "id": "h0ZPFBZuUGyN",
        "outputId": "49e98a11-31c3-4e77-d649-bf0686f33ce3"
      },
      "execution_count": 10,
      "outputs": [
        {
          "output_type": "display_data",
          "data": {
            "text/plain": [
              "<Figure size 600x500 with 1 Axes>"
            ],
            "image/png": "[encoded data removed]"
          },
          "metadata": {}
        }
      ]
    },
    {
      "cell_type": "code",
      "source": [
        "import nltk\n",
        "nltk.download('punkt_tab')\n"
      ],
      "metadata": {
        "colab": {
          "base_uri": "https://localhost:8080/"
        },
        "id": "I6-VubHzYOgg",
        "outputId": "c09483ae-c8e9-4b6c-daa4-28648d8a2205"
      },
      "execution_count": 11,
      "outputs": [
        {
          "output_type": "stream",
          "name": "stderr",
          "text": [
            "[nltk_data] Downloading package punkt_tab to /root/nltk_data...\n",
            "[nltk_data]   Unzipping tokenizers/punkt_tab.zip.\n"
          ]
        },
        {
          "output_type": "execute_result",
          "data": {
            "text/plain": [
              "True"
            ]
          },
          "metadata": {},
          "execution_count": 11
        }
      ]
    },
    {
      "cell_type": "code",
      "source": [
        "# Word2Vec Training & Semantic Analysis\n",
        "w2v_summary = {}\n",
        "if True:   # assuming gensim available\n",
        "    try:\n",
        "        # Prepare data (tokenization + preprocessing)\n",
        "        sms_tokens = [msg.lower().split() for msg in df['message'].astype(str).tolist()]\n",
        "\n",
        "        # Train Skip-Gram Model\n",
        "        model_sg = Word2Vec(\n",
        "            sentences=sms_tokens,\n",
        "            vector_size=120,\n",
        "            window=6,\n",
        "            sg=1,\n",
        "            min_count=2,\n",
        "            workers=3,\n",
        "            seed=42\n",
        "        )\n",
        "\n",
        "        # Train CBOW Model\n",
        "        model_cbow = Word2Vec(\n",
        "            sentences=sms_tokens,\n",
        "            vector_size=120,\n",
        "            window=6,\n",
        "            sg=0,\n",
        "            min_count=2,\n",
        "            workers=3,\n",
        "            seed=42\n",
        "        )\n",
        "\n",
        "        # Save models\n",
        "        model_sg.save(\"sg_model_sms.model\")\n",
        "        model_cbow.save(\"cbow_model_sms.model\")\n",
        "\n",
        "        # Example similarity check\n",
        "        try:\n",
        "            sim_sg = model_sg.wv.most_similar(\"free\", topn=8)\n",
        "            sim_cbow = model_cbow.wv.most_similar(\"free\", topn=8)\n",
        "        except:\n",
        "            sim_sg, sim_cbow = [], []\n",
        "\n",
        "        # Status\n",
        "        w2v_summary = {\n",
        "            \"status\": \"trained_successfully\",\n",
        "            \"sg_similar\": sim_sg,\n",
        "            \"cbow_similar\": sim_cbow\n",
        "        }\n",
        "\n",
        "        print(\"Word2Vec training complete \")\n",
        "        print(\"Example SG similar to 'free':\", sim_sg[:5])\n",
        "        print(\"Example CBOW similar to 'free':\", sim_cbow[:5])\n",
        "\n",
        "    except Exception as e:\n",
        "        w2v_summary = {\"status\": \"training_failed\", \"error\": str(e)}\n",
        "        print(\" Error during training:\", e)\n",
        "else:\n",
        "    w2v_summary = {\"status\": \"gensim_not_found\"}\n",
        "    print(\" gensim not installed; skipping Word2Vec.\")\n"
      ],
      "metadata": {
        "colab": {
          "base_uri": "https://localhost:8080/"
        },
        "id": "NWHolnL9YpEU",
        "outputId": "eccc3f7c-b368-451d-902a-882c9ee339c1"
      },
      "execution_count": 12,
      "outputs": [
        {
          "output_type": "stream",
          "name": "stdout",
          "text": [
            " Error during training: name 'Word2Vec' is not defined\n"
          ]
        }
      ]
    },
    {
      "cell_type": "code",
      "source": [
        "# Classical Baseline Spam Detection Pipeline (with column fix)\n",
        "\n",
        "# Load CSV with latin-1 encoding\n",
        "df = pd.read_csv('Email_spam_dataset.csv', encoding='latin-1')\n",
        "\n",
        "# Inspect the columns (optional)\n",
        "print(\"Columns in CSV:\", df.columns)\n",
        "print(df.head())\n",
        "\n",
        "# Keep only the first two columns and rename them\n",
        "df = df.iloc[:, :2]\n",
        "df.columns = ['label', 'message']\n",
        "\n",
        "# Encode labels: ham=0, spam=1\n",
        "df['label'] = df['label'].map({'ham': 0, 'spam': 1})\n",
        "\n",
        "# Split data into training and testing sets\n",
        "X_train, X_test, y_train, y_test = train_test_split(\n",
        "    df['message'], df['label'], test_size=0.2, random_state=42, stratify=df['label']\n",
        ")\n",
        "\n",
        "# TF-IDF Vectorization (classical feature representation)\n",
        "tfidf = TfidfVectorizer(stop_words='english', max_df=0.95, min_df=2)\n",
        "X_train_tfidf = tfidf.fit_transform(X_train)\n",
        "X_test_tfidf = tfidf.transform(X_test)\n",
        "\n",
        "# Logistic Regression (classical classifier)\n",
        "classical_model = LogisticRegression(max_iter=1000)\n",
        "classical_model.fit(X_train_tfidf, y_train)\n",
        "\n",
        "# Predict on test set\n",
        "y_pred = classical_model.predict(X_test_tfidf)\n",
        "\n",
        "# Evaluation\n",
        "print(\"Accuracy:\", accuracy_score(y_test, y_pred))\n",
        "print(\"\\nClassification Report:\\n\", classification_report(y_test, y_pred))\n",
        "print(\"\\nConfusion Matrix:\\n\", confusion_matrix(y_test, y_pred))\n"
      ],
      "metadata": {
        "colab": {
          "base_uri": "https://localhost:8080/"
        },
        "id": "fO5uU_E-bNfh",
        "outputId": "8061bc68-1c53-4b79-9c1c-7d49ed5ca88c"
      },
      "execution_count": 13,
      "outputs": [
        {
          "output_type": "stream",
          "name": "stdout",
          "text": [
            "Columns in CSV: Index(['v1', 'v2', 'Unnamed: 2', 'Unnamed: 3', 'Unnamed: 4'], dtype='object')\n",
            "     v1                                                 v2 Unnamed: 2  \\\n",
            "0   ham  Go until jurong point, crazy.. Available only ...        NaN   \n",
            "1   ham                      Ok lar... Joking wif u oni...        NaN   \n",
            "2  spam  Free entry in 2 a wkly comp to win FA Cup fina...        NaN   \n",
            "3   ham  U dun say so early hor... U c already then say...        NaN   \n",
            "4   ham  Nah I don't think he goes to usf, he lives aro...        NaN   \n",
            "\n",
            "  Unnamed: 3 Unnamed: 4  \n",
            "0        NaN        NaN  \n",
            "1        NaN        NaN  \n",
            "2        NaN        NaN  \n",
            "3        NaN        NaN  \n",
            "4        NaN        NaN  \n",
            "Accuracy: 0.9730941704035875\n",
            "\n",
            "Classification Report:\n",
            "               precision    recall  f1-score   support\n",
            "\n",
            "           0       0.97      1.00      0.98       966\n",
            "           1       1.00      0.80      0.89       149\n",
            "\n",
            "    accuracy                           0.97      1115\n",
            "   macro avg       0.98      0.90      0.94      1115\n",
            "weighted avg       0.97      0.97      0.97      1115\n",
            "\n",
            "\n",
            "Confusion Matrix:\n",
            " [[966   0]\n",
            " [ 30 119]]\n"
          ]
        }
      ]
    },
    {
      "cell_type": "code",
      "source": [
        "# Advanced Spam Detection Pipeline\n",
        "# Load CSV with encoding fix\n",
        "df = pd.read_csv('Email_spam_dataset.csv', encoding='latin-1')\n",
        "\n",
        "# Keep only first two columns and rename\n",
        "df = df.iloc[:, :2]\n",
        "df.columns = ['label', 'message']\n",
        "\n",
        "# Encode labels: ham=0, spam=1\n",
        "df['label'] = df['label'].map({'ham': 0, 'spam': 1})\n",
        "\n",
        "# Split data\n",
        "X_train, X_test, y_train, y_test = train_test_split(\n",
        "    df['message'], df['label'], test_size=0.2, random_state=42, stratify=df['label']\n",
        ")\n",
        "\n",
        "# TF-IDF vectorization\n",
        "tfidf = TfidfVectorizer(stop_words='english', max_df=0.95, min_df=2)\n",
        "X_train_tfidf = tfidf.fit_transform(X_train)\n",
        "X_test_tfidf = tfidf.transform(X_test)\n",
        "\n",
        "# Linear Support Vector Classifier (advanced model)\n",
        "advanced_model = LinearSVC()\n",
        "advanced_model.fit(X_train_tfidf, y_train)\n",
        "\n",
        "# Predictions\n",
        "y_pred = advanced_model.predict(X_test_tfidf)\n",
        "\n",
        "# Evaluation\n",
        "print(\"Accuracy:\", accuracy_score(y_test, y_pred))\n",
        "print(\"\\nClassification Report:\\n\", classification_report(y_test, y_pred))\n",
        "print(\"\\nConfusion Matrix:\\n\", confusion_matrix(y_test, y_pred))\n"
      ],
      "metadata": {
        "id": "O7kmt6eQfT4M",
        "outputId": "a15ba2ae-86d2-4b78-bd87-252074a8c61a",
        "colab": {
          "base_uri": "https://localhost:8080/"
        }
      },
      "execution_count": 14,
      "outputs": [
        {
          "output_type": "stream",
          "name": "stdout",
          "text": [
            "Accuracy: 0.9820627802690582\n",
            "\n",
            "Classification Report:\n",
            "               precision    recall  f1-score   support\n",
            "\n",
            "           0       0.98      1.00      0.99       966\n",
            "           1       0.98      0.88      0.93       149\n",
            "\n",
            "    accuracy                           0.98      1115\n",
            "   macro avg       0.98      0.94      0.96      1115\n",
            "weighted avg       0.98      0.98      0.98      1115\n",
            "\n",
            "\n",
            "Confusion Matrix:\n",
            " [[964   2]\n",
            " [ 18 131]]\n"
          ]
        }
      ]
    }
  ]
}